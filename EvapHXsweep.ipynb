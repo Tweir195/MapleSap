{
 "cells": [
  {
   "cell_type": "code",
   "execution_count": 1,
   "id": "neither-pressure",
   "metadata": {},
   "outputs": [],
   "source": [
    "import numpy as np\n",
    "import matplotlib.pyplot as plt\n",
    "import CoolProp.CoolProp as CP\n",
    "import CoolProp.Plots as CPP\n",
    "from scipy.optimize import fsolve"
   ]
  },
  {
   "cell_type": "code",
   "execution_count": 2,
   "id": "horizontal-wrapping",
   "metadata": {},
   "outputs": [],
   "source": [
    "#approximating mdot\n",
    "GPH2Kgs = .00078 #gallons per hour (steam evaporated) to kg/s\n",
    "mdot_sap_high = 12*GPH2Kgs\n",
    "\n",
    "Pa = 101.3 * 10**3 # average ambient pressure [Pa]\n",
    "mdot_sap_low = .001 #[kg/s]\n",
    "#Qdot_fire = 20000 #[20 kW from stove]\n",
    "\n",
    "\n",
    "\n",
    "# Setting the width and length of the preheating pan\n",
    "pre_panL = 1\n",
    "pre_panW = .5\n",
    "pre_panA = pre_panL* pre_panW"
   ]
  },
  {
   "cell_type": "code",
   "execution_count": 3,
   "id": "revolutionary-columbus",
   "metadata": {},
   "outputs": [],
   "source": [
    "Tsapi = 278 # [K] about 40F\n",
    "\n",
    "# Calculate temperature of the steam as the boiling point of sap\n",
    "sugar_amount = 66.9 # Percent g sugar per 100 g solution for maple syrup [Brix]\n",
    "kb = 0.51 # molal boiling point elevation[°C*kg/mol]\n",
    "Tbpe = 0.51 * (sugar_amount / 342.3)/((100-sugar_amount)/1000) # Calculate molality of solution in mols sugar/kg water\n"
   ]
  },
  {
   "cell_type": "code",
   "execution_count": 4,
   "id": "consolidated-signature",
   "metadata": {},
   "outputs": [],
   "source": [
    "# Define the parameters to solve for h\n",
    "Tsteam = 373.15 + Tbpe # Temperature to boil water plus the boiling point elevation due to sugar content\n",
    "kcond = CP.PropsSI('CONDUCTIVITY','P',Pa,'T', Tsteam ,'water') # Thermal conductivity of steam, W/m K\n",
    "g = 9.81 # Acceleration due to graviy, m/s^2\n",
    "beta = 1/Tsteam # Coefficient of thermal expansion, equal to 1/T for ideal gases\n",
    "cp_steam = CP.PropsSI('C','P',Pa,'T', Tsteam ,'water') # Specific heat capacity at constant pressure, J/kg K\n",
    "mu = CP.PropsSI('V','P',Pa,'T', Tsteam ,'water') # Dynamic viscosity of steam, Pa-s\n",
    "density = CP.PropsSI('D','P',Pa,'T', Tsteam ,'water') # Density of steam kg/m^3\n",
    "v = mu/density # Kinematic viscosity of steam, m^2/s\n",
    "Lc = (pre_panA)/(2*pre_panL + 2*pre_panW) # Characteristic length for Nusselt number, m\n",
    "cp_sap = CP.PropsSI('C','P',Pa,'T', Tsapi,'water')\n",
    "mdot_sap = mdot_sap_high #defining mdot of the sap and therefore steam"
   ]
  },
  {
   "cell_type": "code",
   "execution_count": 16,
   "id": "signal-yahoo",
   "metadata": {},
   "outputs": [],
   "source": [
    "# Define a function to numerically solve for Tout of the sap\n",
    "# Since Tout of sap is a function of the heat transfer to the plate, which is itself a function of Toutsap\n",
    "# We need to set the increase in temperature of the sap equal to the convective heat transfer and numerically solve\n",
    "# We use a Nusselt correlation for an isothermal flat plate with free convection from the underside\n",
    "\n",
    "def ToutFunc(Tsapout):\n",
    "    n1 = pre_panA/(mdot_sap * cp_sap) * (kcond/Lc)\n",
    "    Pr = (cp_steam * mu/kcond)\n",
    "    Gr = (g * beta * np.abs(Tsteam-Tsapout) * Lc**3)/(v**3)\n",
    "    result = n1 * 0.27 * (Pr * Gr)**(1/4)  - (Tsapout - Tsapi)/(Tsteam - Tsapout)\n",
    "    return result"
   ]
  },
  {
   "cell_type": "code",
   "execution_count": 28,
   "id": "fatty-polls",
   "metadata": {},
   "outputs": [
    {
     "name": "stdout",
     "output_type": "stream",
     "text": [
      "310.5986343882281\n"
     ]
    }
   ],
   "source": [
    "Tsapout = fsolve(ToutFunc, 273+40)[0]\n",
    "print(Tsapout)"
   ]
  },
  {
   "cell_type": "code",
   "execution_count": 7,
   "id": "thermal-diving",
   "metadata": {},
   "outputs": [],
   "source": [
    "def simpleEvap(mdot_sap, Tsap, Tsteam=375):\n",
    "    hsap = CP.PropsSI('H','P',Pa,'T', Tsap,'water') #[j/kg]\n",
    "    hsteam = CP.PropsSI('H','P',Pa,'T', Tsteam ,'water') #[j/kg]\n",
    "    Qdot_need = mdot_sap*(hsteam - hsap)\n",
    "    return Qdot_need"
   ]
  },
  {
   "cell_type": "code",
   "execution_count": 32,
   "id": "medieval-amino",
   "metadata": {},
   "outputs": [
    {
     "name": "stdout",
     "output_type": "stream",
     "text": [
      "313.0\n",
      "313.0\n",
      "313.0\n"
     ]
    }
   ],
   "source": [
    "n=3 \n",
    "mdots = np.linspace(mdot_sap_low, mdot_sap_high, n)\n",
    "results = []\n",
    "for j in range(0, n):\n",
    "    mdot = mdots[j]\n",
    "    def ToutFuncA(TsapoutA):\n",
    "        n1 = pre_panA/(mdot * cp_sap) * (kcond/Lc)\n",
    "        Pr = (cp_steam * mu/kcond)\n",
    "        Gr = (g * beta * np.abs(Tsteam-Tsapout) * Lc**3)/(v**3)\n",
    "        resT = n1 * 0.27 * (Pr * Gr)**(1/4)  - (Tsapout - Tsapi)/(Tsteam - Tsapout)\n",
    "        return resT\n",
    "    TsapoutA = fsolve(ToutFuncA, 273+30)[0]\n",
    "    print(TsapoutA)\n",
    "    if j == 0:\n",
    "        results = [simpleEvap(mdots[j], TsapoutA)]\n",
    "    else:\n",
    "        results.append(simpleEvap(mdots[j], TsapoutA))"
   ]
  },
  {
   "cell_type": "code",
   "execution_count": 26,
   "id": "operating-shakespeare",
   "metadata": {},
   "outputs": [
    {
     "name": "stdout",
     "output_type": "stream",
     "text": [
      "[2637.936434266928, 8151.223581884806, 13664.510729502685, 19177.797877120563, 24691.085024738444]\n"
     ]
    }
   ],
   "source": [
    "print(results)"
   ]
  },
  {
   "cell_type": "code",
   "execution_count": 27,
   "id": "material-credit",
   "metadata": {},
   "outputs": [
    {
     "data": {
      "text/plain": [
       "Text(0.5, 1.0, 'Heat Input in Relation to Mass Flow')"
      ]
     },
     "execution_count": 27,
     "metadata": {},
     "output_type": "execute_result"
    },
    {
     "data": {
      "image/png": "[encoded data removed]",
      "text/plain": [
       "<Figure size 432x288 with 1 Axes>"
      ]
     },
     "metadata": {
      "needs_background": "light"
     },
     "output_type": "display_data"
    }
   ],
   "source": [
    "plt.plot(mdots, results)\n",
    "plt.xlabel('Mass Flow [kg/s]')\n",
    "plt.ylabel('Heat [W]')\n",
    "plt.title('Heat Input in Relation to Mass Flow')"
   ]
  },
  {
   "cell_type": "code",
   "execution_count": null,
   "id": "paperback-theta",
   "metadata": {},
   "outputs": [],
   "source": []
  }
 ],
 "metadata": {
  "kernelspec": {
   "display_name": "Python 3",
   "language": "python",
   "name": "python3"
  },
  "language_info": {
   "codemirror_mode": {
    "name": "ipython",
    "version": 3
   },
   "file_extension": ".py",
   "mimetype": "text/x-python",
   "name": "python",
   "nbconvert_exporter": "python",
   "pygments_lexer": "ipython3",
   "version": "3.6.12"
  }
 },
 "nbformat": 4,
 "nbformat_minor": 5
}
