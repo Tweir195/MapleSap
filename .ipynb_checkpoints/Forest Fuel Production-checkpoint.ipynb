{
 "cells": [
  {
   "cell_type": "code",
   "execution_count": 2,
   "id": "d38e9a64",
   "metadata": {},
   "outputs": [],
   "source": [
    "import numpy as np\n",
    "import matplotlib.pyplot as plt\n",
    "import CoolProp.CoolProp as CP"
   ]
  },
  {
   "cell_type": "code",
   "execution_count": 11,
   "id": "4a734bf7",
   "metadata": {},
   "outputs": [
    {
     "name": "stdout",
     "output_type": "stream",
     "text": [
      "2.408770469130659\n"
     ]
    }
   ],
   "source": [
    "# Notebook to calculate heat needed to process all of the sap produced per year\n",
    "\n",
    "# Set parameters for sap production\n",
    "num_maples = 80 # Number of maples being tapped for sap, set arbitrarily\n",
    "sap_per_tree = 50 # kg sap per tree per season, taken from https://en.wikipedia.org/wiki/Maple_syrup#Production\n",
    "mass_sap_total = num_maples * sap_per_tree # Total sap to be processed per year\n",
    "cp = 4184 # J/kg, currently approximating as the heat capacity of water\n",
    "T_initial = 278 # Kelvin, represents initial temperature of sap\n",
    "T_boil = 373.15 # Kelvin, represents boiling point of sap\n",
    "hf = 2260*1000 # J/kg, heat of vaporization of water\n",
    "sap_ratio = 39/40 # Ratio of water boiled off to sap\n",
    "\n",
    "# The heat needed to process the sap is given by the heat to bring it up to boiling temperature and the heat needed\n",
    "# to vaporize 39/40 of the mass of the sap as water\n",
    "\n",
    "Q_total = mass_sap_total * cp * (T_boil - T_initial) + mass_sap_total * sap_ratio * hf # J\n",
    "\n",
    "# Set parameters for fuel production\n",
    "HHV_wood = 16.8 * 1055*10**6/3624.6 # 16.8 million BTU/cord of green sugar maple wood * 1055 MJ per million BTU /3624.6 kg/cord\n",
    "eff = 0.65 # Percentage efficiency, represents heat loss to outside, exhaust, incomplete combustion, etc. To be replaced\n",
    "mdot_forest_growth = 0.375 * 3624.6 # kg wood per acre forest per year\n",
    "\n",
    "# Total acres wood needed to process sap per year is given by dividing total heat by (heat per kg wood * kg wood per acre)\n",
    "\n",
    "forest_area = Q_total/(HHV_wood * eff * mdot_forest_growth)\n",
    "print(forest_area)"
   ]
  },
  {
   "cell_type": "code",
   "execution_count": null,
   "id": "e8da51b6",
   "metadata": {},
   "outputs": [],
   "source": []
  }
 ],
 "metadata": {
  "kernelspec": {
   "display_name": "Python 3",
   "language": "python",
   "name": "python3"
  },
  "language_info": {
   "codemirror_mode": {
    "name": "ipython",
    "version": 3
   },
   "file_extension": ".py",
   "mimetype": "text/x-python",
   "name": "python",
   "nbconvert_exporter": "python",
   "pygments_lexer": "ipython3",
   "version": "3.8.9"
  }
 },
 "nbformat": 4,
 "nbformat_minor": 5
}
