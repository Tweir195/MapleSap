{
 "cells": [
  {
   "cell_type": "code",
   "execution_count": 1,
   "id": "divine-stuff",
   "metadata": {},
   "outputs": [],
   "source": [
    "import numpy as np\n",
    "import matplotlib.pyplot as plt\n",
    "import CoolProp.CoolProp as CP\n",
    "import CoolProp.Plots as CPP"
   ]
  },
  {
   "cell_type": "code",
   "execution_count": 21,
   "id": "maritime-discovery",
   "metadata": {},
   "outputs": [],
   "source": [
    "Tsapi = 278 # [K] about 40F\n",
    "Pa = 101.3 * 10**3 # average ambient pressure [Pa]\n",
    "mdot_sap = .001 #[kg/s]\n",
    "#Qdot_fire = 20000 #[20 kW from stove]"
   ]
  },
  {
   "cell_type": "code",
   "execution_count": 19,
   "id": "lucky-cabinet",
   "metadata": {},
   "outputs": [
    {
     "name": "stdout",
     "output_type": "stream",
     "text": [
      "0.07803770934533567\n"
     ]
    }
   ],
   "source": [
    "\n",
    "hsap = CP.PropsSI('H','P',Pa,'T', Tsapi,'water') #[j/kg]\n",
    "hsteam = CP.PropsSI('H','P',Pa,'Q', 1 ,'water') #[j/kg]\n",
    "Qdot_need = mdot_sap* (hsteam-hsap)\n",
    "\n",
    "print(Qdot_need)"
   ]
  },
  {
   "cell_type": "code",
   "execution_count": null,
   "id": "backed-practitioner",
   "metadata": {},
   "outputs": [],
   "source": []
  }
 ],
 "metadata": {
  "kernelspec": {
   "display_name": "Python 3",
   "language": "python",
   "name": "python3"
  },
  "language_info": {
   "codemirror_mode": {
    "name": "ipython",
    "version": 3
   },
   "file_extension": ".py",
   "mimetype": "text/x-python",
   "name": "python",
   "nbconvert_exporter": "python",
   "pygments_lexer": "ipython3",
   "version": "3.6.12"
  }
 },
 "nbformat": 4,
 "nbformat_minor": 5
}
