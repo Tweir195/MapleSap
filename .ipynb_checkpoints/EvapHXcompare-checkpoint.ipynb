{
 "cells": [
  {
   "cell_type": "code",
   "execution_count": 1,
   "id": "physical-chester",
   "metadata": {},
   "outputs": [],
   "source": [
    "import numpy as np\n",
    "import matplotlib.pyplot as plt\n",
    "import CoolProp.CoolProp as CP\n",
    "import CoolProp.Plots as CPP\n",
    "from scipy.optimize import fsolve"
   ]
  },
  {
   "cell_type": "code",
   "execution_count": 2,
   "id": "circular-witch",
   "metadata": {},
   "outputs": [],
   "source": [
    "#approximating mdot\n",
    "GPH2Kgs = .00078 #gallons per hour (steam evaporated) to kg/s\n",
    "mdot_sap_high = 12*GPH2Kgs\n",
    "\n",
    "Pa = 101.3 * 10**3 # average ambient pressure [Pa]\n",
    "mdot_sap_low = .001 #[kg/s]\n",
    "#Qdot_fire = 20000 #[20 kW from stove]\n",
    "\n",
    "\n",
    "\n",
    "# Setting the width and length of the preheating pan\n",
    "pre_panL = 1\n",
    "pre_panW = .5\n",
    "pre_panA = pre_panL* pre_panW"
   ]
  },
  {
   "cell_type": "code",
   "execution_count": 3,
   "id": "eleven-product",
   "metadata": {},
   "outputs": [],
   "source": [
    "Tsapi = 278 # [K] about 40F\n",
    "\n",
    "# Calculate temperature of the steam as the boiling point of sap\n",
    "sugar_amount = 66.9 # Percent g sugar per 100 g solution for maple syrup [Brix]\n",
    "kb = 0.51 # molal boiling point elevation[°C*kg/mol]\n",
    "Tbpe = 0.51 * (sugar_amount / 342.3)/((100-sugar_amount)/1000) # Calculate molality of solution in mols sugar/kg water\n"
   ]
  },
  {
   "cell_type": "code",
   "execution_count": 4,
   "id": "chemical-income",
   "metadata": {},
   "outputs": [],
   "source": [
    "# Define the parameters to solve for h\n",
    "Tsteam = 373.15 + Tbpe # Temperature to boil water plus the boiling point elevation due to sugar content\n",
    "kcond = CP.PropsSI('CONDUCTIVITY','P',Pa,'T', Tsteam ,'water') # Thermal conductivity of steam, W/m K\n",
    "g = 9.81 # Acceleration due to graviy, m/s^2\n",
    "beta = 1/Tsteam # Coefficient of thermal expansion, equal to 1/T for ideal gases\n",
    "cp_steam = CP.PropsSI('C','P',Pa,'T', Tsteam ,'water') # Specific heat capacity at constant pressure, J/kg K\n",
    "mu = CP.PropsSI('V','P',Pa,'T', Tsteam ,'water') # Dynamic viscosity of steam, Pa-s\n",
    "density = CP.PropsSI('D','P',Pa,'T', Tsteam ,'water') # Density of steam kg/m^3\n",
    "v = mu/density # Kinematic viscosity of steam, m^2/s\n",
    "Lc = (pre_panA)/(2*pre_panL + 2*pre_panW) # Characteristic length for Nusselt number, m\n",
    "cp_sap = CP.PropsSI('C','P',Pa,'T', Tsapi,'water')\n",
    "mdot_sap = mdot_sap_high #defining mdot of the sap and therefore steam"
   ]
  },
  {
   "cell_type": "code",
   "execution_count": 5,
   "id": "continent-sussex",
   "metadata": {},
   "outputs": [],
   "source": [
    "# Define a function to numerically solve for Tout of the sap\n",
    "# Since Tout of sap is a function of the heat transfer to the plate, which is itself a function of Toutsap\n",
    "# We need to set the increase in temperature of the sap equal to the convective heat transfer and numerically solve\n",
    "# We use a Nusselt correlation for an isothermal flat plate with free convection from the underside\n",
    "\n",
    "def ToutFunc(Tsapout):\n",
    "    n1 = pre_panA/(mdot_sap * cp_sap) * (kcond/Lc)\n",
    "    Pr = (cp_steam * mu/kcond)\n",
    "    Gr = (g * beta * np.abs(Tsteam-Tsapout) * Lc**3)/(v**3)\n",
    "    result = n1 * 0.27 * (Pr * Gr)**(1/4)  - (Tsapout - Tsapi)/(Tsteam - Tsapout)\n",
    "    return result"
   ]
  },
  {
   "cell_type": "code",
   "execution_count": 16,
   "id": "defensive-marking",
   "metadata": {},
   "outputs": [
    {
     "name": "stdout",
     "output_type": "stream",
     "text": [
      "310.5986343882281\n"
     ]
    }
   ],
   "source": [
    "Tsapout = fsolve(ToutFunc, 273+40)[0]\n",
    "print(Tsapout)"
   ]
  },
  {
   "cell_type": "code",
   "execution_count": 7,
   "id": "comparable-welcome",
   "metadata": {},
   "outputs": [],
   "source": [
    "def simpleEvap(mdot_sap, Tsap, Tsteam=375):\n",
    "    hsap = CP.PropsSI('H','P',Pa,'T', Tsap,'water') #[j/kg]\n",
    "    hsteam = CP.PropsSI('H','P',Pa,'T', Tsteam ,'water') #[j/kg]\n",
    "    Qdot_need = mdot_sap*(hsteam - hsap)\n",
    "    return Qdot_need"
   ]
  },
  {
   "cell_type": "code",
   "execution_count": 21,
   "id": "fifty-sender",
   "metadata": {},
   "outputs": [],
   "source": [
    "def heatCompare(mdot_sap, Tsapi, Tsteam = 375) :\n",
    "    Q_noHX = simpleEvap(mdot_sap, Tsapi, Tsteam=375)\n",
    "    Q_HX = simpleEvap(mdot_sap, Tsapout, Tsteam=375)\n",
    "    return Q_noHX - Q_HX"
   ]
  },
  {
   "cell_type": "code",
   "execution_count": 22,
   "id": "previous-evans",
   "metadata": {},
   "outputs": [
    {
     "data": {
      "text/plain": [
       "-1277.3042262090603"
      ]
     },
     "execution_count": 22,
     "metadata": {},
     "output_type": "execute_result"
    }
   ],
   "source": [
    "heatCompare(mdot_sap_high, Tsapi)"
   ]
  },
  {
   "cell_type": "code",
   "execution_count": 10,
   "id": "written-measure",
   "metadata": {},
   "outputs": [
    {
     "data": {
      "text/plain": [
       "Text(0.5, 1.0, 'Heat Input in Relation to Mass Flow')"
      ]
     },
     "execution_count": 10,
     "metadata": {},
     "output_type": "execute_result"
    },
    {
     "data": {
      "image/png": "[encoded data removed]",
      "text/plain": [
       "<Figure size 432x288 with 1 Axes>"
      ]
     },
     "metadata": {
      "needs_background": "light"
     },
     "output_type": "display_data"
    }
   ],
   "source": []
  },
  {
   "cell_type": "code",
   "execution_count": null,
   "id": "molecular-master",
   "metadata": {},
   "outputs": [],
   "source": []
  }
 ],
 "metadata": {
  "kernelspec": {
   "display_name": "Python 3",
   "language": "python",
   "name": "python3"
  },
  "language_info": {
   "codemirror_mode": {
    "name": "ipython",
    "version": 3
   },
   "file_extension": ".py",
   "mimetype": "text/x-python",
   "name": "python",
   "nbconvert_exporter": "python",
   "pygments_lexer": "ipython3",
   "version": "3.6.12"
  }
 },
 "nbformat": 4,
 "nbformat_minor": 5
}
