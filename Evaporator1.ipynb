{
 "cells": [
  {
   "cell_type": "code",
   "execution_count": 2,
   "metadata": {},
   "outputs": [],
   "source": [
    "import numpy as np\n",
    "import matplotlib.pyplot as plt\n",
    "import CoolProp.CoolProp as CP\n",
    "import CoolProp.Plots as CPP"
   ]
  },
  {
   "cell_type": "code",
   "execution_count": 3,
   "metadata": {},
   "outputs": [],
   "source": [
    "#approximating mdot\n",
    "GPH2Kgs = .00078 #gallons per hour (steam evaporated) to kg/s\n",
    "mdot_sap_high = 12*GPH2Kgs"
   ]
  },
  {
   "cell_type": "code",
   "execution_count": 4,
   "metadata": {},
   "outputs": [],
   "source": [
    "Tsapi = 278 # [K] about 40F\n",
    "Pa = 101.3 * 10**3 # average ambient pressure [Pa]\n",
    "mdot_sap_low = .001 #[kg/s]\n",
    "#Qdot_fire = 20000 #[20 kW from stove]"
   ]
  },
  {
   "cell_type": "code",
   "execution_count": 5,
   "metadata": {},
   "outputs": [
    {
     "name": "stdout",
     "output_type": "stream",
     "text": [
      "24851.073858365093\n"
     ]
    }
   ],
   "source": [
    "#calculating the Qdot we need \n",
    "hsap = CP.PropsSI('H','P',Pa,'T', Tsapi,'water') #[j/kg]\n",
    "hsteam = CP.PropsSI('H','P',Pa,'Q', 1 ,'water') #[j/kg]\n",
    "Qdot_need = mdot_sap_high* (hsteam-hsap)\n",
    "\n",
    "print(Qdot_need)"
   ]
  },
  {
   "cell_type": "code",
   "execution_count": 6,
   "metadata": {},
   "outputs": [],
   "source": [
    "def simpleEvap(mdot_sap, Tsapi):\n",
    "    hsap = CP.PropsSI('H','P',Pa,'T', Tsapi,'water') #[j/kg]\n",
    "    hsteam = CP.PropsSI('H','P',Pa,'Q', 1 ,'water') #[j/kg]\n",
    "    Qdot_need = mdot_sap*(hsteam-hsap)\n",
    "    return Qdot_need"
   ]
  },
  {
   "cell_type": "code",
   "execution_count": 7,
   "metadata": {},
   "outputs": [],
   "source": [
    "n=50 \n",
    "mdots = np.linspace(mdot_sap_low, mdot_sap_high, n)\n",
    "results = []\n",
    "for j in range(0, n):\n",
    "    if j == 0:\n",
    "        results = simpleEvap(mdots[j], Tsapi)\n",
    "    else:\n",
    "        newrow = simpleEvap(mdots[j], Tsapi)\n",
    "        results = np.vstack([results, newrow])"
   ]
  },
  {
   "cell_type": "code",
   "execution_count": 9,
   "metadata": {},
   "outputs": [
    {
     "data": {
      "text/plain": [
       "Text(0.5, 1.0, 'Heat Input in Relation to Mass Flow')"
      ]
     },
     "execution_count": 9,
     "metadata": {},
     "output_type": "execute_result"
    },
    {
     "data": {
      "image/png": "[encoded data removed]",
      "text/plain": [
       "<Figure size 432x288 with 1 Axes>"
      ]
     },
     "metadata": {
      "needs_background": "light"
     },
     "output_type": "display_data"
    }
   ],
   "source": [
    "plt.plot(mdots, results)\n",
    "plt.xlabel('Mass Flow [kg/s]')\n",
    "plt.ylabel('Heat [W]')\n",
    "plt.title('Heat Input in Relation to Mass Flow')"
   ]
  },
  {
   "cell_type": "code",
   "execution_count": null,
   "metadata": {},
   "outputs": [],
   "source": [
    "n=50 \n",
    "mdots = np.linspace(mdot_sap_low, mdot_sap_high, n)\n",
    "Tsapi = np.linspace(Tsapi, 360, n)\n",
    "results = []\n",
    "for j in range(0, n):\n",
    "    for i in range(0,n):\n",
    "    if j == 0:\n",
    "        results = simpleEvap(mdots[j], Tsapi)\n",
    "    else:\n",
    "        newrow = simpleEvap(mdots[j], Tsapi)\n",
    "        results = np.vstack([results, newrow])"
   ]
  }
 ],
 "metadata": {
  "kernelspec": {
   "display_name": "Python 3",
   "language": "python",
   "name": "python3"
  },
  "language_info": {
   "codemirror_mode": {
    "name": "ipython",
    "version": 3
   },
   "file_extension": ".py",
   "mimetype": "text/x-python",
   "name": "python",
   "nbconvert_exporter": "python",
   "pygments_lexer": "ipython3",
   "version": "3.7.4"
  }
 },
 "nbformat": 4,
 "nbformat_minor": 5
}
