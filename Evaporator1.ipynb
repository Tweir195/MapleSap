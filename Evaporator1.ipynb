{
 "cells": [
  {
   "cell_type": "code",
<<<<<<< HEAD
   "execution_count": 1,
   "id": "extra-disability",
=======
   "execution_count": 2,
>>>>>>> 8c1754629df610cd9524b05fbff5481842a4bc58
   "metadata": {},
   "outputs": [],
   "source": [
    "import numpy as np\n",
    "import matplotlib.pyplot as plt\n",
    "import CoolProp.CoolProp as CP\n",
    "import CoolProp.Plots as CPP"
   ]
  },
  {
   "cell_type": "code",
<<<<<<< HEAD
   "execution_count": 2,
   "id": "automotive-executive",
=======
   "execution_count": 3,
>>>>>>> 8c1754629df610cd9524b05fbff5481842a4bc58
   "metadata": {},
   "outputs": [],
   "source": [
    "#approximating mdot\n",
    "GPH2Kgs = .00078 #gallons per hour (of steam evaporated) to kg/s\n",
    "mdot_sap_high = 12*GPH2Kgs"
   ]
  },
  {
   "cell_type": "code",
<<<<<<< HEAD
   "execution_count": 3,
   "id": "lucky-visitor",
=======
   "execution_count": 4,
>>>>>>> 8c1754629df610cd9524b05fbff5481842a4bc58
   "metadata": {},
   "outputs": [],
   "source": [
    "Tsapi = 278 # [K] about 40F\n",
    "Pa = 101.3 * 10**3 # average ambient pressure [Pa]\n",
    "mdot_sap_low = .001 #[kg/s]\n",
    "#Qdot_fire = 20000 #[20 kW from stove]"
   ]
  },
  {
   "cell_type": "code",
<<<<<<< HEAD
   "execution_count": 4,
   "id": "restricted-methodology",
=======
   "execution_count": 5,
>>>>>>> 8c1754629df610cd9524b05fbff5481842a4bc58
   "metadata": {},
   "outputs": [
    {
     "name": "stdout",
     "output_type": "stream",
     "text": [
      "24851.073858365093\n"
     ]
    }
   ],
   "source": [
    "#calculating the Qdot we need \n",
    "hsap = CP.PropsSI('H','P',Pa,'T', Tsapi,'water') #[j/kg]\n",
    "hsteam = CP.PropsSI('H','P',Pa,'Q', 1 ,'water') #[j/kg]\n",
    "Qdot_need = mdot_sap_high* (hsteam-hsap)\n",
    "\n",
    "print(Qdot_need)"
   ]
  },
  {
   "cell_type": "code",
<<<<<<< HEAD
   "execution_count": 5,
   "id": "assigned-harris",
=======
   "execution_count": 6,
>>>>>>> 8c1754629df610cd9524b05fbff5481842a4bc58
   "metadata": {},
   "outputs": [],
   "source": [
    "def simpleEvap(mdot_sap, Tsapi):\n",
    "    hsap = CP.PropsSI('H','P',Pa,'T', Tsapi,'water') #[j/kg]\n",
    "    hsteam = CP.PropsSI('H','P',Pa,'Q', 1 ,'water') #[j/kg]\n",
    "    Qdot_need = mdot_sap*(hsteam-hsap)\n",
    "    return Qdot_need"
   ]
  },
  {
   "cell_type": "code",
<<<<<<< HEAD
   "execution_count": 6,
   "id": "swiss-outside",
=======
   "execution_count": 7,
>>>>>>> 8c1754629df610cd9524b05fbff5481842a4bc58
   "metadata": {},
   "outputs": [],
   "source": [
    "n=50 \n",
    "mdots = np.linspace(mdot_sap_low, mdot_sap_high, n)\n",
    "results = []\n",
    "for j in range(0, n):\n",
    "    if j == 0:\n",
    "        results = simpleEvap(mdots[j], Tsapi)\n",
    "    else:\n",
    "        newrow = simpleEvap(mdots[j], Tsapi)\n",
    "        results = np.vstack([results, newrow])"
   ]
  },
  {
   "cell_type": "code",
<<<<<<< HEAD
   "execution_count": 7,
   "id": "aboriginal-tokyo",
=======
   "execution_count": 9,
>>>>>>> 8c1754629df610cd9524b05fbff5481842a4bc58
   "metadata": {},
   "outputs": [
    {
     "data": {
      "text/plain": [
       "Text(0.5, 1.0, 'Heat Input in Relation to Mass Flow')"
      ]
     },
<<<<<<< HEAD
     "execution_count": 7,
=======
     "execution_count": 9,
>>>>>>> 8c1754629df610cd9524b05fbff5481842a4bc58
     "metadata": {},
     "output_type": "execute_result"
    },
    {
     "data": {
      "image/png": "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\n",
      "text/plain": [
       "<Figure size 432x288 with 1 Axes>"
      ]
     },
     "metadata": {
      "needs_background": "light"
     },
     "output_type": "display_data"
    }
   ],
   "source": [
    "plt.plot(mdots, results)\n",
    "plt.xlabel('Mass Flow [kg/s]')\n",
    "plt.ylabel('Heat [W]')\n",
    "plt.title('Heat Input in Relation to Mass Flow')"
   ]
  },
  {
   "cell_type": "code",
<<<<<<< HEAD
   "execution_count": 17,
   "id": "norman-surprise",
=======
   "execution_count": null,
>>>>>>> 8c1754629df610cd9524b05fbff5481842a4bc58
   "metadata": {},
   "outputs": [
    {
     "data": {
      "text/plain": [
       "50"
      ]
     },
     "execution_count": 17,
     "metadata": {},
     "output_type": "execute_result"
    }
   ],
   "source": [
    "n=50 \n",
    "mdots = np.linspace(mdot_sap_low, mdot_sap_high, n)\n",
    "Tsapis = np.linspace(Tsapi, 360, n)\n",
    "mdots_,Tsapis_ = np.meshgrid(mdots, Tsapi)\n",
    "\n",
    "res = []\n",
    "\n",
    "\n",
    "for i in range(0,n):\n",
    "    newrow = []\n",
    "    for j in range(0,n):\n",
    "        row.append(simpleEvap(mdots[i],Tsapis[j]))\n",
    "    res.append(row)\n",
    "        \n",
    "len(res)\n",
    "        "
   ]
  },
  {
   "cell_type": "code",
   "execution_count": 18,
   "id": "registered-specialist",
   "metadata": {},
   "outputs": [
    {
     "ename": "TypeError",
     "evalue": "Number of dimensions of x (2) and y (1) do not match",
     "output_type": "error",
     "traceback": [
      "\u001b[1;31m---------------------------------------------------------------------------\u001b[0m",
      "\u001b[1;31mTypeError\u001b[0m                                 Traceback (most recent call last)",
      "\u001b[1;32m<ipython-input-18-5589a2423ae1>\u001b[0m in \u001b[0;36m<module>\u001b[1;34m\u001b[0m\n\u001b[0;32m      1\u001b[0m \u001b[0mfig\u001b[0m \u001b[1;33m=\u001b[0m \u001b[0mplt\u001b[0m\u001b[1;33m.\u001b[0m\u001b[0mfigure\u001b[0m\u001b[1;33m(\u001b[0m\u001b[1;33m)\u001b[0m\u001b[1;33m\u001b[0m\u001b[1;33m\u001b[0m\u001b[0m\n\u001b[1;32m----> 2\u001b[1;33m \u001b[0mcs\u001b[0m\u001b[1;33m=\u001b[0m \u001b[0mplt\u001b[0m\u001b[1;33m.\u001b[0m\u001b[0mcontourf\u001b[0m\u001b[1;33m(\u001b[0m\u001b[0mmdots_\u001b[0m\u001b[1;33m,\u001b[0m\u001b[0mTsapis\u001b[0m\u001b[1;33m,\u001b[0m \u001b[0mres\u001b[0m\u001b[1;33m)\u001b[0m\u001b[1;33m\u001b[0m\u001b[1;33m\u001b[0m\u001b[0m\n\u001b[0m\u001b[0;32m      3\u001b[0m \u001b[0mplt\u001b[0m\u001b[1;33m.\u001b[0m\u001b[0mxlabel\u001b[0m\u001b[1;33m(\u001b[0m\u001b[1;34m'Temperature [K]'\u001b[0m\u001b[1;33m)\u001b[0m\u001b[1;33m\u001b[0m\u001b[1;33m\u001b[0m\u001b[0m\n\u001b[0;32m      4\u001b[0m \u001b[0mplt\u001b[0m\u001b[1;33m.\u001b[0m\u001b[0mylabel\u001b[0m\u001b[1;33m(\u001b[0m\u001b[1;34m'Salinity %'\u001b[0m\u001b[1;33m)\u001b[0m\u001b[1;33m\u001b[0m\u001b[1;33m\u001b[0m\u001b[0m\n\u001b[0;32m      5\u001b[0m \u001b[0mplt\u001b[0m\u001b[1;33m.\u001b[0m\u001b[0mtitle\u001b[0m\u001b[1;33m(\u001b[0m\u001b[1;34m'heat and mass'\u001b[0m\u001b[1;33m)\u001b[0m\u001b[1;33m\u001b[0m\u001b[1;33m\u001b[0m\u001b[0m\n",
      "\u001b[1;32mC:\\ProgramData\\Miniconda3\\lib\\site-packages\\matplotlib\\pyplot.py\u001b[0m in \u001b[0;36mcontourf\u001b[1;34m(data, *args, **kwargs)\u001b[0m\n\u001b[0;32m   2577\u001b[0m     __ret = gca().contourf(\n\u001b[0;32m   2578\u001b[0m         \u001b[1;33m*\u001b[0m\u001b[0margs\u001b[0m\u001b[1;33m,\u001b[0m \u001b[1;33m**\u001b[0m\u001b[1;33m(\u001b[0m\u001b[1;33m{\u001b[0m\u001b[1;34m\"data\"\u001b[0m\u001b[1;33m:\u001b[0m \u001b[0mdata\u001b[0m\u001b[1;33m}\u001b[0m \u001b[1;32mif\u001b[0m \u001b[0mdata\u001b[0m \u001b[1;32mis\u001b[0m \u001b[1;32mnot\u001b[0m \u001b[1;32mNone\u001b[0m \u001b[1;32melse\u001b[0m \u001b[1;33m{\u001b[0m\u001b[1;33m}\u001b[0m\u001b[1;33m)\u001b[0m\u001b[1;33m,\u001b[0m\u001b[1;33m\u001b[0m\u001b[1;33m\u001b[0m\u001b[0m\n\u001b[1;32m-> 2579\u001b[1;33m         **kwargs)\n\u001b[0m\u001b[0;32m   2580\u001b[0m     \u001b[1;32mif\u001b[0m \u001b[0m__ret\u001b[0m\u001b[1;33m.\u001b[0m\u001b[0m_A\u001b[0m \u001b[1;32mis\u001b[0m \u001b[1;32mnot\u001b[0m \u001b[1;32mNone\u001b[0m\u001b[1;33m:\u001b[0m \u001b[0msci\u001b[0m\u001b[1;33m(\u001b[0m\u001b[0m__ret\u001b[0m\u001b[1;33m)\u001b[0m  \u001b[1;31m# noqa\u001b[0m\u001b[1;33m\u001b[0m\u001b[1;33m\u001b[0m\u001b[0m\n\u001b[0;32m   2581\u001b[0m     \u001b[1;32mreturn\u001b[0m \u001b[0m__ret\u001b[0m\u001b[1;33m\u001b[0m\u001b[1;33m\u001b[0m\u001b[0m\n",
      "\u001b[1;32mC:\\ProgramData\\Miniconda3\\lib\\site-packages\\matplotlib\\__init__.py\u001b[0m in \u001b[0;36minner\u001b[1;34m(ax, data, *args, **kwargs)\u001b[0m\n\u001b[0;32m   1445\u001b[0m     \u001b[1;32mdef\u001b[0m \u001b[0minner\u001b[0m\u001b[1;33m(\u001b[0m\u001b[0max\u001b[0m\u001b[1;33m,\u001b[0m \u001b[1;33m*\u001b[0m\u001b[0margs\u001b[0m\u001b[1;33m,\u001b[0m \u001b[0mdata\u001b[0m\u001b[1;33m=\u001b[0m\u001b[1;32mNone\u001b[0m\u001b[1;33m,\u001b[0m \u001b[1;33m**\u001b[0m\u001b[0mkwargs\u001b[0m\u001b[1;33m)\u001b[0m\u001b[1;33m:\u001b[0m\u001b[1;33m\u001b[0m\u001b[1;33m\u001b[0m\u001b[0m\n\u001b[0;32m   1446\u001b[0m         \u001b[1;32mif\u001b[0m \u001b[0mdata\u001b[0m \u001b[1;32mis\u001b[0m \u001b[1;32mNone\u001b[0m\u001b[1;33m:\u001b[0m\u001b[1;33m\u001b[0m\u001b[1;33m\u001b[0m\u001b[0m\n\u001b[1;32m-> 1447\u001b[1;33m             \u001b[1;32mreturn\u001b[0m \u001b[0mfunc\u001b[0m\u001b[1;33m(\u001b[0m\u001b[0max\u001b[0m\u001b[1;33m,\u001b[0m \u001b[1;33m*\u001b[0m\u001b[0mmap\u001b[0m\u001b[1;33m(\u001b[0m\u001b[0msanitize_sequence\u001b[0m\u001b[1;33m,\u001b[0m \u001b[0margs\u001b[0m\u001b[1;33m)\u001b[0m\u001b[1;33m,\u001b[0m \u001b[1;33m**\u001b[0m\u001b[0mkwargs\u001b[0m\u001b[1;33m)\u001b[0m\u001b[1;33m\u001b[0m\u001b[1;33m\u001b[0m\u001b[0m\n\u001b[0m\u001b[0;32m   1448\u001b[0m \u001b[1;33m\u001b[0m\u001b[0m\n\u001b[0;32m   1449\u001b[0m         \u001b[0mbound\u001b[0m \u001b[1;33m=\u001b[0m \u001b[0mnew_sig\u001b[0m\u001b[1;33m.\u001b[0m\u001b[0mbind\u001b[0m\u001b[1;33m(\u001b[0m\u001b[0max\u001b[0m\u001b[1;33m,\u001b[0m \u001b[1;33m*\u001b[0m\u001b[0margs\u001b[0m\u001b[1;33m,\u001b[0m \u001b[1;33m**\u001b[0m\u001b[0mkwargs\u001b[0m\u001b[1;33m)\u001b[0m\u001b[1;33m\u001b[0m\u001b[1;33m\u001b[0m\u001b[0m\n",
      "\u001b[1;32mC:\\ProgramData\\Miniconda3\\lib\\site-packages\\matplotlib\\axes\\_axes.py\u001b[0m in \u001b[0;36mcontourf\u001b[1;34m(self, *args, **kwargs)\u001b[0m\n\u001b[0;32m   6333\u001b[0m     \u001b[1;32mdef\u001b[0m \u001b[0mcontourf\u001b[0m\u001b[1;33m(\u001b[0m\u001b[0mself\u001b[0m\u001b[1;33m,\u001b[0m \u001b[1;33m*\u001b[0m\u001b[0margs\u001b[0m\u001b[1;33m,\u001b[0m \u001b[1;33m**\u001b[0m\u001b[0mkwargs\u001b[0m\u001b[1;33m)\u001b[0m\u001b[1;33m:\u001b[0m\u001b[1;33m\u001b[0m\u001b[1;33m\u001b[0m\u001b[0m\n\u001b[0;32m   6334\u001b[0m         \u001b[0mkwargs\u001b[0m\u001b[1;33m[\u001b[0m\u001b[1;34m'filled'\u001b[0m\u001b[1;33m]\u001b[0m \u001b[1;33m=\u001b[0m \u001b[1;32mTrue\u001b[0m\u001b[1;33m\u001b[0m\u001b[1;33m\u001b[0m\u001b[0m\n\u001b[1;32m-> 6335\u001b[1;33m         \u001b[0mcontours\u001b[0m \u001b[1;33m=\u001b[0m \u001b[0mmcontour\u001b[0m\u001b[1;33m.\u001b[0m\u001b[0mQuadContourSet\u001b[0m\u001b[1;33m(\u001b[0m\u001b[0mself\u001b[0m\u001b[1;33m,\u001b[0m \u001b[1;33m*\u001b[0m\u001b[0margs\u001b[0m\u001b[1;33m,\u001b[0m \u001b[1;33m**\u001b[0m\u001b[0mkwargs\u001b[0m\u001b[1;33m)\u001b[0m\u001b[1;33m\u001b[0m\u001b[1;33m\u001b[0m\u001b[0m\n\u001b[0m\u001b[0;32m   6336\u001b[0m         \u001b[0mself\u001b[0m\u001b[1;33m.\u001b[0m\u001b[0m_request_autoscale_view\u001b[0m\u001b[1;33m(\u001b[0m\u001b[1;33m)\u001b[0m\u001b[1;33m\u001b[0m\u001b[1;33m\u001b[0m\u001b[0m\n\u001b[0;32m   6337\u001b[0m         \u001b[1;32mreturn\u001b[0m \u001b[0mcontours\u001b[0m\u001b[1;33m\u001b[0m\u001b[1;33m\u001b[0m\u001b[0m\n",
      "\u001b[1;32mC:\\ProgramData\\Miniconda3\\lib\\site-packages\\matplotlib\\contour.py\u001b[0m in \u001b[0;36m__init__\u001b[1;34m(self, ax, levels, filled, linewidths, linestyles, hatches, alpha, origin, extent, cmap, colors, norm, vmin, vmax, extend, antialiased, nchunk, locator, transform, *args, **kwargs)\u001b[0m\n\u001b[0;32m    814\u001b[0m         \u001b[0mself\u001b[0m\u001b[1;33m.\u001b[0m\u001b[0m_transform\u001b[0m \u001b[1;33m=\u001b[0m \u001b[0mtransform\u001b[0m\u001b[1;33m\u001b[0m\u001b[1;33m\u001b[0m\u001b[0m\n\u001b[0;32m    815\u001b[0m \u001b[1;33m\u001b[0m\u001b[0m\n\u001b[1;32m--> 816\u001b[1;33m         \u001b[0mkwargs\u001b[0m \u001b[1;33m=\u001b[0m \u001b[0mself\u001b[0m\u001b[1;33m.\u001b[0m\u001b[0m_process_args\u001b[0m\u001b[1;33m(\u001b[0m\u001b[1;33m*\u001b[0m\u001b[0margs\u001b[0m\u001b[1;33m,\u001b[0m \u001b[1;33m**\u001b[0m\u001b[0mkwargs\u001b[0m\u001b[1;33m)\u001b[0m\u001b[1;33m\u001b[0m\u001b[1;33m\u001b[0m\u001b[0m\n\u001b[0m\u001b[0;32m    817\u001b[0m         \u001b[0mself\u001b[0m\u001b[1;33m.\u001b[0m\u001b[0m_process_levels\u001b[0m\u001b[1;33m(\u001b[0m\u001b[1;33m)\u001b[0m\u001b[1;33m\u001b[0m\u001b[1;33m\u001b[0m\u001b[0m\n\u001b[0;32m    818\u001b[0m \u001b[1;33m\u001b[0m\u001b[0m\n",
      "\u001b[1;32mC:\\ProgramData\\Miniconda3\\lib\\site-packages\\matplotlib\\contour.py\u001b[0m in \u001b[0;36m_process_args\u001b[1;34m(self, corner_mask, *args, **kwargs)\u001b[0m\n\u001b[0;32m   1428\u001b[0m             \u001b[0mself\u001b[0m\u001b[1;33m.\u001b[0m\u001b[0m_corner_mask\u001b[0m \u001b[1;33m=\u001b[0m \u001b[0mcorner_mask\u001b[0m\u001b[1;33m\u001b[0m\u001b[1;33m\u001b[0m\u001b[0m\n\u001b[0;32m   1429\u001b[0m \u001b[1;33m\u001b[0m\u001b[0m\n\u001b[1;32m-> 1430\u001b[1;33m             \u001b[0mx\u001b[0m\u001b[1;33m,\u001b[0m \u001b[0my\u001b[0m\u001b[1;33m,\u001b[0m \u001b[0mz\u001b[0m \u001b[1;33m=\u001b[0m \u001b[0mself\u001b[0m\u001b[1;33m.\u001b[0m\u001b[0m_contour_args\u001b[0m\u001b[1;33m(\u001b[0m\u001b[0margs\u001b[0m\u001b[1;33m,\u001b[0m \u001b[0mkwargs\u001b[0m\u001b[1;33m)\u001b[0m\u001b[1;33m\u001b[0m\u001b[1;33m\u001b[0m\u001b[0m\n\u001b[0m\u001b[0;32m   1431\u001b[0m \u001b[1;33m\u001b[0m\u001b[0m\n\u001b[0;32m   1432\u001b[0m             \u001b[0m_mask\u001b[0m \u001b[1;33m=\u001b[0m \u001b[0mma\u001b[0m\u001b[1;33m.\u001b[0m\u001b[0mgetmask\u001b[0m\u001b[1;33m(\u001b[0m\u001b[0mz\u001b[0m\u001b[1;33m)\u001b[0m\u001b[1;33m\u001b[0m\u001b[1;33m\u001b[0m\u001b[0m\n",
      "\u001b[1;32mC:\\ProgramData\\Miniconda3\\lib\\site-packages\\matplotlib\\contour.py\u001b[0m in \u001b[0;36m_contour_args\u001b[1;34m(self, args, kwargs)\u001b[0m\n\u001b[0;32m   1486\u001b[0m             \u001b[0margs\u001b[0m \u001b[1;33m=\u001b[0m \u001b[0margs\u001b[0m\u001b[1;33m[\u001b[0m\u001b[1;36m1\u001b[0m\u001b[1;33m:\u001b[0m\u001b[1;33m]\u001b[0m\u001b[1;33m\u001b[0m\u001b[1;33m\u001b[0m\u001b[0m\n\u001b[0;32m   1487\u001b[0m         \u001b[1;32melif\u001b[0m \u001b[0mNargs\u001b[0m \u001b[1;33m<=\u001b[0m \u001b[1;36m4\u001b[0m\u001b[1;33m:\u001b[0m\u001b[1;33m\u001b[0m\u001b[1;33m\u001b[0m\u001b[0m\n\u001b[1;32m-> 1488\u001b[1;33m             \u001b[0mx\u001b[0m\u001b[1;33m,\u001b[0m \u001b[0my\u001b[0m\u001b[1;33m,\u001b[0m \u001b[0mz\u001b[0m \u001b[1;33m=\u001b[0m \u001b[0mself\u001b[0m\u001b[1;33m.\u001b[0m\u001b[0m_check_xyz\u001b[0m\u001b[1;33m(\u001b[0m\u001b[0margs\u001b[0m\u001b[1;33m[\u001b[0m\u001b[1;33m:\u001b[0m\u001b[1;36m3\u001b[0m\u001b[1;33m]\u001b[0m\u001b[1;33m,\u001b[0m \u001b[0mkwargs\u001b[0m\u001b[1;33m)\u001b[0m\u001b[1;33m\u001b[0m\u001b[1;33m\u001b[0m\u001b[0m\n\u001b[0m\u001b[0;32m   1489\u001b[0m             \u001b[0margs\u001b[0m \u001b[1;33m=\u001b[0m \u001b[0margs\u001b[0m\u001b[1;33m[\u001b[0m\u001b[1;36m3\u001b[0m\u001b[1;33m:\u001b[0m\u001b[1;33m]\u001b[0m\u001b[1;33m\u001b[0m\u001b[1;33m\u001b[0m\u001b[0m\n\u001b[0;32m   1490\u001b[0m         \u001b[1;32melse\u001b[0m\u001b[1;33m:\u001b[0m\u001b[1;33m\u001b[0m\u001b[1;33m\u001b[0m\u001b[0m\n",
      "\u001b[1;32mC:\\ProgramData\\Miniconda3\\lib\\site-packages\\matplotlib\\contour.py\u001b[0m in \u001b[0;36m_check_xyz\u001b[1;34m(self, args, kwargs)\u001b[0m\n\u001b[0;32m   1524\u001b[0m \u001b[1;33m\u001b[0m\u001b[0m\n\u001b[0;32m   1525\u001b[0m         \u001b[1;32mif\u001b[0m \u001b[0mx\u001b[0m\u001b[1;33m.\u001b[0m\u001b[0mndim\u001b[0m \u001b[1;33m!=\u001b[0m \u001b[0my\u001b[0m\u001b[1;33m.\u001b[0m\u001b[0mndim\u001b[0m\u001b[1;33m:\u001b[0m\u001b[1;33m\u001b[0m\u001b[1;33m\u001b[0m\u001b[0m\n\u001b[1;32m-> 1526\u001b[1;33m             raise TypeError(f\"Number of dimensions of x ({x.ndim}) and y \"\n\u001b[0m\u001b[0;32m   1527\u001b[0m                             f\"({y.ndim}) do not match\")\n\u001b[0;32m   1528\u001b[0m         \u001b[1;32mif\u001b[0m \u001b[0mx\u001b[0m\u001b[1;33m.\u001b[0m\u001b[0mndim\u001b[0m \u001b[1;33m==\u001b[0m \u001b[1;36m1\u001b[0m\u001b[1;33m:\u001b[0m\u001b[1;33m\u001b[0m\u001b[1;33m\u001b[0m\u001b[0m\n",
      "\u001b[1;31mTypeError\u001b[0m: Number of dimensions of x (2) and y (1) do not match"
     ]
    },
    {
     "data": {
      "image/png": "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\n",
      "text/plain": [
       "<Figure size 432x288 with 1 Axes>"
      ]
     },
     "metadata": {
      "needs_background": "light"
     },
     "output_type": "display_data"
    }
   ],
   "source": [
    "fig = plt.figure()\n",
    "cs= plt.contourf(mdots_,Tsapis, res)\n",
    "plt.xlabel('Temperature [K]')\n",
    "plt.ylabel('Salinity %')\n",
    "plt.title('heat and mass')\n",
    "fig.colorbar(cs)\n",
    "plt.show()"
   ]
  },
  {
   "cell_type": "code",
   "execution_count": null,
   "id": "concrete-understanding",
   "metadata": {},
   "outputs": [],
   "source": []
  }
 ],
 "metadata": {
  "kernelspec": {
   "display_name": "Python 3",
   "language": "python",
   "name": "python3"
  },
  "language_info": {
   "codemirror_mode": {
    "name": "ipython",
    "version": 3
   },
   "file_extension": ".py",
   "mimetype": "text/x-python",
   "name": "python",
   "nbconvert_exporter": "python",
   "pygments_lexer": "ipython3",
   "version": "3.7.4"
  }
 },
 "nbformat": 4,
 "nbformat_minor": 5
}
