{
 "cells": [
  {
   "cell_type": "code",
   "execution_count": 1,
   "id": "attempted-intention",
   "metadata": {},
   "outputs": [],
   "source": [
    "import numpy as np\n",
    "import matplotlib.pyplot as plt\n",
    "import CoolProp.CoolProp as CP\n",
    "import CoolProp.Plots as CPP"
   ]
  },
  {
   "cell_type": "code",
   "execution_count": 2,
   "id": "collective-purpose",
   "metadata": {},
   "outputs": [],
   "source": [
    "#approximating mdot\n",
    "GPH2Kgs = .00078 #gallons per hour (steam evaporated) to kg/s\n",
    "mdot_sap_high = 12*GPH2Kgs\n",
    "\n",
    "\n",
    "Tsapi = 278 # [K] about 40F\n",
    "Pa = 101.3 * 10**3 # average ambient pressure [Pa]\n",
    "mdot_sap_low = .001 #[kg/s]\n",
    "#Qdot_fire = 20000 #[20 kW from stove]\n",
    "\n",
    "\n"
   ]
  },
  {
   "cell_type": "code",
   "execution_count": 3,
   "id": "south-bonus",
   "metadata": {},
   "outputs": [
    {
     "name": "stdout",
     "output_type": "stream",
     "text": [
      "24851.073858365093\n"
     ]
    }
   ],
   "source": [
    "\n",
    "#calculating the Qdot we need \n",
    "hsap = CP.PropsSI('H','P',Pa,'T', Tsapi,'water') #[j/kg]\n",
    "hsteam = CP.PropsSI('H','P',Pa,'Q', 1 ,'water') #[j/kg]\n",
    "Qdot_need = mdot_sap_high* (hsteam-hsap)\n",
    "\n",
    "print(Qdot_need)\n",
    "\n",
    "\n"
   ]
  },
  {
   "cell_type": "code",
   "execution_count": 4,
   "id": "nasty-identification",
   "metadata": {},
   "outputs": [],
   "source": [
    "def simpleEvap(mdot_sap, Tsapi):\n",
    "    hsap = CP.PropsSI('H','P',Pa,'T', Tsapi,'water') #[j/kg]\n",
    "    hsteam = CP.PropsSI('H','P',Pa,'Q', 1 ,'water') #[j/kg]\n",
    "    Qdot_need = mdot_sap*(hsteam-hsap)\n",
    "    return Qdot_need\n",
    "\n",
    "\n"
   ]
  },
  {
   "cell_type": "code",
   "execution_count": 5,
   "id": "interested-looking",
   "metadata": {},
   "outputs": [],
   "source": [
    "n=50 \n",
    "mdots = np.linspace(mdot_sap_low, mdot_sap_high, n)\n",
    "results = []\n",
    "for j in range(0, n):\n",
    "    if j == 0:\n",
    "        results = simpleEvap(mdots[j], Tsapi)\n",
    "    else:\n",
    "        newrow = simpleEvap(mdots[j], Tsapi)\n",
    "        results = np.vstack([results, newrow])\n",
    "\n",
    "\n"
   ]
  },
  {
   "cell_type": "code",
   "execution_count": null,
   "id": "suitable-generation",
   "metadata": {},
   "outputs": [],
   "source": [
    "plt.plot(mdots, results)\n",
    "plt.xlabel('Mass Flow [kg/s]')\n",
    "plt.ylabel('Heat [W]')\n",
    "plt.title('Heat Input in Relation to Mass Flow')\n",
    "\n",
    "\n",
    "n=50 \n",
    "mdots = np.linspace(mdot_sap_low, mdot_sap_high, n)\n",
    "Tsapi = np.linspace(Tsapi, 360, n)\n",
    "results = []\n",
    "for j in range(0, n):\n",
    "    for i in range(0,n):\n",
    "    if j == 0:\n",
    "        results = simpleEvap(mdots[j], Tsapi)\n",
    "    else:\n",
    "        newrow = simpleEvap(mdots[j], Tsapi)\n",
    "        results = np.vstack([results, newrow])\n",
    "\n"
   ]
  }
 ],
 "metadata": {
  "kernelspec": {
   "display_name": "Python 3",
   "language": "python",
   "name": "python3"
  },
  "language_info": {
   "codemirror_mode": {
    "name": "ipython",
    "version": 3
   },
   "file_extension": ".py",
   "mimetype": "text/x-python",
   "name": "python",
   "nbconvert_exporter": "python",
   "pygments_lexer": "ipython3",
   "version": "3.6.12"
  }
 },
 "nbformat": 4,
 "nbformat_minor": 5
}
